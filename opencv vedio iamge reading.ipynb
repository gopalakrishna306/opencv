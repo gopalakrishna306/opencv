{
 "cells": [
  {
   "cell_type": "code",
   "execution_count": 1,
   "metadata": {},
   "outputs": [],
   "source": [
    "import cv2"
   ]
  },
  {
   "cell_type": "code",
   "execution_count": 2,
   "metadata": {},
   "outputs": [],
   "source": [
    "import dlib"
   ]
  },
  {
   "cell_type": "code",
   "execution_count": 3,
   "metadata": {},
   "outputs": [],
   "source": [
    "vedio=cv2.VideoCapture(0)"
   ]
  },
  {
   "cell_type": "code",
   "execution_count": 4,
   "metadata": {},
   "outputs": [
    {
     "data": {
      "text/plain": [
       "True"
      ]
     },
     "execution_count": 4,
     "metadata": {},
     "output_type": "execute_result"
    }
   ],
   "source": [
    "vedio.isOpened()"
   ]
  },
  {
   "cell_type": "code",
   "execution_count": 5,
   "metadata": {},
   "outputs": [],
   "source": [
    "rat,frame=vedio.read()"
   ]
  },
  {
   "cell_type": "code",
   "execution_count": 6,
   "metadata": {},
   "outputs": [
    {
     "data": {
      "text/plain": [
       "True"
      ]
     },
     "execution_count": 6,
     "metadata": {},
     "output_type": "execute_result"
    }
   ],
   "source": [
    "rat"
   ]
  },
  {
   "cell_type": "code",
   "execution_count": 7,
   "metadata": {},
   "outputs": [
    {
     "data": {
      "text/plain": [
       "array([[[ 90,  92,  92],\n",
       "        [ 90,  92,  92],\n",
       "        [ 88,  91,  97],\n",
       "        ...,\n",
       "        [113, 106, 109],\n",
       "        [110, 106, 106],\n",
       "        [110, 106, 106]],\n",
       "\n",
       "       [[ 88,  90,  88],\n",
       "        [ 88,  90,  88],\n",
       "        [ 84,  89,  88],\n",
       "        ...,\n",
       "        [109, 107, 105],\n",
       "        [107, 107, 107],\n",
       "        [107, 107, 107]],\n",
       "\n",
       "       [[ 87,  91,  91],\n",
       "        [ 84,  89,  88],\n",
       "        [ 87,  91,  91],\n",
       "        ...,\n",
       "        [105, 105, 105],\n",
       "        [106, 106, 104],\n",
       "        [107, 108, 105]],\n",
       "\n",
       "       ...,\n",
       "\n",
       "       [[ 85,  85,  85],\n",
       "        [ 83,  83,  83],\n",
       "        [ 86,  84,  82],\n",
       "        ...,\n",
       "        [ 14,  10,   6],\n",
       "        [ 16,  10,   6],\n",
       "        [ 16,  10,   6]],\n",
       "\n",
       "       [[ 88,  88,  88],\n",
       "        [ 85,  85,  85],\n",
       "        [ 88,  84,  82],\n",
       "        ...,\n",
       "        [ 14,  10,   6],\n",
       "        [ 14,  10,   6],\n",
       "        [ 14,  10,   6]],\n",
       "\n",
       "       [[ 91,  89,  85],\n",
       "        [ 86,  85,  80],\n",
       "        [ 96,  83,  87],\n",
       "        ...,\n",
       "        [ 18,   9,   8],\n",
       "        [ 16,  10,   6],\n",
       "        [ 16,  10,   6]]], dtype=uint8)"
      ]
     },
     "execution_count": 7,
     "metadata": {},
     "output_type": "execute_result"
    }
   ],
   "source": [
    "frame"
   ]
  },
  {
   "cell_type": "code",
   "execution_count": 8,
   "metadata": {},
   "outputs": [],
   "source": [
    "myimg=cv2.imwrite('gk.jpg',frame)"
   ]
  },
  {
   "cell_type": "code",
   "execution_count": 9,
   "metadata": {},
   "outputs": [],
   "source": [
    "cv2.imshow('mat',myimg)"
   ]
  },
  {
   "cell_type": "code",
   "execution_count": 10,
   "metadata": {},
   "outputs": [],
   "source": [
    "img1=cv2.cvtColor(frame,cv2.COLOR_BGR2RGB)"
   ]
  },
  {
   "cell_type": "code",
   "execution_count": 11,
   "metadata": {
    "collapsed": true
   },
   "outputs": [
    {
     "data": {
      "text/plain": [
       "array([[[ 92,  92,  90],\n",
       "        [ 92,  92,  90],\n",
       "        [ 97,  91,  88],\n",
       "        ...,\n",
       "        [109, 106, 113],\n",
       "        [106, 106, 110],\n",
       "        [106, 106, 110]],\n",
       "\n",
       "       [[ 88,  90,  88],\n",
       "        [ 88,  90,  88],\n",
       "        [ 88,  89,  84],\n",
       "        ...,\n",
       "        [105, 107, 109],\n",
       "        [107, 107, 107],\n",
       "        [107, 107, 107]],\n",
       "\n",
       "       [[ 91,  91,  87],\n",
       "        [ 88,  89,  84],\n",
       "        [ 91,  91,  87],\n",
       "        ...,\n",
       "        [105, 105, 105],\n",
       "        [104, 106, 106],\n",
       "        [105, 108, 107]],\n",
       "\n",
       "       ...,\n",
       "\n",
       "       [[ 85,  85,  85],\n",
       "        [ 83,  83,  83],\n",
       "        [ 82,  84,  86],\n",
       "        ...,\n",
       "        [  6,  10,  14],\n",
       "        [  6,  10,  16],\n",
       "        [  6,  10,  16]],\n",
       "\n",
       "       [[ 88,  88,  88],\n",
       "        [ 85,  85,  85],\n",
       "        [ 82,  84,  88],\n",
       "        ...,\n",
       "        [  6,  10,  14],\n",
       "        [  6,  10,  14],\n",
       "        [  6,  10,  14]],\n",
       "\n",
       "       [[ 85,  89,  91],\n",
       "        [ 80,  85,  86],\n",
       "        [ 87,  83,  96],\n",
       "        ...,\n",
       "        [  8,   9,  18],\n",
       "        [  6,  10,  16],\n",
       "        [  6,  10,  16]]], dtype=uint8)"
      ]
     },
     "execution_count": 11,
     "metadata": {},
     "output_type": "execute_result"
    }
   ],
   "source": [
    "img1"
   ]
  },
  {
   "cell_type": "code",
   "execution_count": 12,
   "metadata": {},
   "outputs": [],
   "source": [
    "my_gray=cv2.imwrite('gk_gray.jpg',img1)"
   ]
  },
  {
   "cell_type": "code",
   "execution_count": 13,
   "metadata": {},
   "outputs": [],
   "source": [
    "img2=cv2.cvtColor(frame,cv2.COLOR_RGB2BGR)\n",
    "my_colour=cv2.imwrite('gk_colour.jpg',img2)"
   ]
  },
  {
   "cell_type": "code",
   "execution_count": 15,
   "metadata": {},
   "outputs": [],
   "source": [
    "vedio.release()  #### cmamara  cloase"
   ]
  },
  {
   "cell_type": "code",
   "execution_count": 14,
   "metadata": {},
   "outputs": [],
   "source": [
    "##############################################"
   ]
  },
  {
   "cell_type": "code",
   "execution_count": null,
   "metadata": {},
   "outputs": [],
   "source": []
  },
  {
   "cell_type": "code",
   "execution_count": 32,
   "metadata": {},
   "outputs": [
    {
     "name": "stdout",
     "output_type": "stream",
     "text": [
      "True yes camara is on\n"
     ]
    }
   ],
   "source": [
    "\n",
    "import cv2\n",
    "cap=cv2.VideoCapture(0)\n",
    "if cap.isOpened():\n",
    "    ret,frame=cap.read()\n",
    "    print(ret,'yes camara is on')\n",
    "else:\n",
    "    ret=False\n",
    "\n",
    "\n",
    "windowname='livefeeed'\n",
    "cv2.namedWindow(windowname)\n",
    "while ret:\n",
    "    ret,frame=cap.read()\n",
    "        \n",
    "    cv2.imshow(windowname,frame)\n",
    "        \n",
    "    if cv2.waitKey(1)==27:\n",
    "        break\n",
    "            \n",
    "cv2.destroyAllWindows()\n",
    "cap.release()\n"
   ]
  },
  {
   "cell_type": "code",
   "execution_count": 47,
   "metadata": {},
   "outputs": [
    {
     "name": "stdout",
     "output_type": "stream",
     "text": [
      "True yes camara is on\n",
      "width 640.0\n",
      "width 480.0\n"
     ]
    }
   ],
   "source": [
    "\n",
    "import cv2\n",
    "cap=cv2.VideoCapture(0)\n",
    "if cap.isOpened():\n",
    "    ret,frame=cap.read()\n",
    "    print(ret,'yes camara is on')\n",
    "else:\n",
    "    ret=False\n",
    "\n",
    "    \n",
    "print('width',cap.get(3))\n",
    "print('width',cap.get(4))\n",
    "windowname='livefeeed'\n",
    "cv2.namedWindow(windowname)\n",
    "while ret:\n",
    "    ret,frame=cap.read()\n",
    "    gray_vedio=cv2.cvtColor(frame,cv2.COLOR_RGB2BGR)\n",
    "        \n",
    "    cv2.imshow(windowname,gray_vedio)\n",
    "        \n",
    "    if cv2.waitKey(1)==27:\n",
    "        break\n",
    "            \n",
    "cv2.destroyAllWindows()\n",
    "cap.release()\n"
   ]
  },
  {
   "cell_type": "code",
   "execution_count": null,
   "metadata": {},
   "outputs": [],
   "source": []
  },
  {
   "cell_type": "code",
   "execution_count": 17,
   "metadata": {},
   "outputs": [
    {
     "name": "stdout",
     "output_type": "stream",
     "text": [
      "True yes camara is on\n"
     ]
    }
   ],
   "source": [
    "\n",
    "import cv2\n",
    "cap=cv2.VideoCapture(0)\n",
    "if cap.isOpened():\n",
    "    ret,frame=cap.read()\n",
    "    print(ret,'yes camara is on')\n",
    "else:\n",
    "    ret=False\n",
    "\n",
    "windowname='livefeeed'\n",
    "cv2.namedWindow(windowname)\n",
    "while ret:\n",
    "    ret,frame=cap.read()\n",
    "    gray_vedio=cv2.cvtColor(frame,cv2.COLOR_BGR2BGRA)\n",
    "    colour_vedio=cv2.cvtColor(frame,cv2.COLOR_RGB2BGR)\n",
    "  \n",
    "    \n",
    "    cv2.imshow('color',colour_vedio)\n",
    "    cv2.imshow(windowname,gray_vedio)\n",
    "    cv2.imshow('color3',colour_vedio)\n",
    "    cv2.imshow('windowname',gray_vedio)\n",
    "        \n",
    "        \n",
    "    if cv2.waitKey(1)==27:\n",
    "        break\n",
    "            \n",
    "cv2.destroyAllWindows()\n",
    "cap.release()\n"
   ]
  },
  {
   "cell_type": "code",
   "execution_count": null,
   "metadata": {},
   "outputs": [],
   "source": []
  },
  {
   "cell_type": "code",
   "execution_count": 5,
   "metadata": {
    "collapsed": true
   },
   "outputs": [
    {
     "name": "stdout",
     "output_type": "stream",
     "text": [
      "True yes camara is on\n"
     ]
    },
    {
     "ename": "KeyboardInterrupt",
     "evalue": "",
     "output_type": "error",
     "traceback": [
      "\u001b[1;31m---------------------------------------------------------------------------\u001b[0m",
      "\u001b[1;31mKeyboardInterrupt\u001b[0m                         Traceback (most recent call last)",
      "\u001b[1;32m<ipython-input-5-ccdcf159a487>\u001b[0m in \u001b[0;36m<module>\u001b[1;34m\u001b[0m\n\u001b[0;32m     12\u001b[0m \u001b[0mcv2\u001b[0m\u001b[1;33m.\u001b[0m\u001b[0mnamedWindow\u001b[0m\u001b[1;33m(\u001b[0m\u001b[0mwindowname\u001b[0m\u001b[1;33m)\u001b[0m\u001b[1;33m\u001b[0m\u001b[1;33m\u001b[0m\u001b[0m\n\u001b[0;32m     13\u001b[0m \u001b[1;32mwhile\u001b[0m \u001b[0mret\u001b[0m\u001b[1;33m:\u001b[0m\u001b[1;33m\u001b[0m\u001b[1;33m\u001b[0m\u001b[0m\n\u001b[1;32m---> 14\u001b[1;33m     \u001b[0mret\u001b[0m\u001b[1;33m,\u001b[0m\u001b[0mframe\u001b[0m\u001b[1;33m=\u001b[0m\u001b[0mcap\u001b[0m\u001b[1;33m.\u001b[0m\u001b[0mread\u001b[0m\u001b[1;33m(\u001b[0m\u001b[1;33m)\u001b[0m\u001b[1;33m\u001b[0m\u001b[1;33m\u001b[0m\u001b[0m\n\u001b[0m\u001b[0;32m     15\u001b[0m     \u001b[0mgray_vedio\u001b[0m\u001b[1;33m=\u001b[0m\u001b[0mcv2\u001b[0m\u001b[1;33m.\u001b[0m\u001b[0mcvtColor\u001b[0m\u001b[1;33m(\u001b[0m\u001b[0mframe\u001b[0m\u001b[1;33m,\u001b[0m\u001b[0mcv2\u001b[0m\u001b[1;33m.\u001b[0m\u001b[0mCOLOR_BGR2BGRA\u001b[0m\u001b[1;33m)\u001b[0m\u001b[1;33m\u001b[0m\u001b[1;33m\u001b[0m\u001b[0m\n\u001b[0;32m     16\u001b[0m     \u001b[0mcolour_vedio\u001b[0m\u001b[1;33m=\u001b[0m\u001b[0mcv2\u001b[0m\u001b[1;33m.\u001b[0m\u001b[0mcvtColor\u001b[0m\u001b[1;33m(\u001b[0m\u001b[0mframe\u001b[0m\u001b[1;33m,\u001b[0m\u001b[0mcv2\u001b[0m\u001b[1;33m.\u001b[0m\u001b[0mCOLOR_RGB2BGR\u001b[0m\u001b[1;33m)\u001b[0m\u001b[1;33m\u001b[0m\u001b[1;33m\u001b[0m\u001b[0m\n",
      "\u001b[1;31mKeyboardInterrupt\u001b[0m: "
     ]
    }
   ],
   "source": [
    "\n",
    "import cv2\n",
    "cap=cv2.VideoCapture(0)\n",
    "if cap.isOpened():\n",
    "    ret,frame=cap.read()\n",
    "    print(ret,'yes camara is on')\n",
    "else:\n",
    "    ret=False\n",
    "\n",
    "\n",
    "    \n",
    "windowname='livefeeed'\n",
    "cv2.namedWindow(windowname)\n",
    "while ret:\n",
    "    ret,frame=cap.read()\n",
    "    gray_vedio=cv2.cvtColor(frame,cv2.COLOR_BGR2BGRA)\n",
    "    colour_vedio=cv2.cvtColor(frame,cv2.COLOR_RGB2BGR)\n",
    "  \n",
    "    \n",
    "    cv2.imshow('color',colour_vedio)\n",
    "    cv2.imshow(windowname,gray_vedio)\n",
    "  \n",
    "        \n",
    "        \n",
    "    if cv2.waitKey(1)==27:\n",
    "        break\n",
    "            \n",
    "cv2.destroyAllWindows()\n",
    "cap.release()\n"
   ]
  },
  {
   "cell_type": "markdown",
   "metadata": {},
   "source": [
    "#  vedio writting "
   ]
  },
  {
   "cell_type": "code",
   "execution_count": 19,
   "metadata": {},
   "outputs": [
    {
     "name": "stdout",
     "output_type": "stream",
     "text": [
      "True yes camara is on\n",
      "task is completed bye\n"
     ]
    }
   ],
   "source": [
    "\n",
    "import cv2\n",
    "cap=cv2.VideoCapture(0)\n",
    "if cap.isOpened():\n",
    "    ret,frame=cap.read()\n",
    "    print(ret,'yes camara is on')\n",
    "else:\n",
    "    ret=False\n",
    "i=0\n",
    "filename='C:\\\\Users\\\\india\\\\Desktop\\\\python documents\\\\opencv\\\\gk{}.avi'.format(i+1)\n",
    "i=i+1\n",
    "codac=cv2.VideoWriter_fourcc('W','M','V','2')\n",
    "framerate=30\n",
    "resulation=(640,480)\n",
    "vedio_out_file=cv2.VideoWriter(filename,codac,framerate,resulation)\n",
    "    \n",
    "windowname='livefeeed'\n",
    "cv2.namedWindow(windowname)\n",
    "while ret:\n",
    "    ret,frame=cap.read()\n",
    "    vedio_out_file.write(frame)\n",
    "    cv2.imshow(windowname,frame)\n",
    "\n",
    "        \n",
    "    if cv2.waitKey(1)==27:\n",
    "        print('task is completed bye')\n",
    "        break\n",
    "            \n",
    "cv2.destroyAllWindows()\n",
    "vedio_out_file.release()\n",
    "cap.release()\n"
   ]
  },
  {
   "cell_type": "code",
   "execution_count": 11,
   "metadata": {},
   "outputs": [],
   "source": [
    "##### gray vedio recorder"
   ]
  },
  {
   "cell_type": "code",
   "execution_count": 23,
   "metadata": {},
   "outputs": [
    {
     "name": "stdout",
     "output_type": "stream",
     "text": [
      "True yes camara is on\n",
      "task is completed bye\n"
     ]
    }
   ],
   "source": [
    "\n",
    "import cv2\n",
    "cap=cv2.VideoCapture(0)\n",
    "if cap.isOpened():\n",
    "    ret,frame=cap.read()\n",
    "    print(ret,'yes camara is on')\n",
    "else:\n",
    "    ret=False\n",
    "i=0\n",
    "filename='C:\\\\Users\\\\india\\\\Desktop\\\\python documents\\\\opencv\\\\gkgrayvedio.avi'\n",
    "codac=cv2.VideoWriter_fourcc('W','M','V','2')\n",
    "framerate=30\n",
    "resulation=(640,480)\n",
    "vedio_out_file=cv2.VideoWriter(filename,codac,framerate,resulation)\n",
    "    \n",
    "windowname='livefeeed'\n",
    "cv2.namedWindow(windowname)\n",
    "while ret:\n",
    "    ret,frame=cap.read()\n",
    "    frame=cv2.cvtColor(frame,cv2.COLOR_RGB2BGR)\n",
    "    vedio_out_file.write(frame)\n",
    "    cv2.imshow(windowname,frame)\n",
    "\n",
    "        \n",
    "    if cv2.waitKey(1)==27:\n",
    "        print('task is completed bye')\n",
    "        break\n",
    "            \n",
    "cv2.destroyAllWindows()\n",
    "vedio_out_file.release()\n",
    "cap.release()\n"
   ]
  },
  {
   "cell_type": "code",
   "execution_count": null,
   "metadata": {},
   "outputs": [],
   "source": []
  },
  {
   "cell_type": "code",
   "execution_count": null,
   "metadata": {},
   "outputs": [],
   "source": []
  },
  {
   "cell_type": "code",
   "execution_count": null,
   "metadata": {},
   "outputs": [],
   "source": []
  },
  {
   "cell_type": "code",
   "execution_count": null,
   "metadata": {},
   "outputs": [],
   "source": []
  }
 ],
 "metadata": {
  "kernelspec": {
   "display_name": "Python 3.7.3 64-bit ('base': conda)",
   "language": "python",
   "name": "python37364bitbaseconda539d3c6a86f246819077b012c91cf8cf"
  },
  "language_info": {
   "codemirror_mode": {
    "name": "ipython",
    "version": 3
   },
   "file_extension": ".py",
   "mimetype": "text/x-python",
   "name": "python",
   "nbconvert_exporter": "python",
   "pygments_lexer": "ipython3",
   "version": "3.7.3"
  }
 },
 "nbformat": 4,
 "nbformat_minor": 2
}
